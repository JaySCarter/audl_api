{
 "cells": [
  {
   "cell_type": "code",
   "execution_count": 1,
   "id": "da2340d5-60ea-4063-8ffc-5ecf7b155d34",
   "metadata": {},
   "outputs": [],
   "source": [
    "import os\n",
    "\n",
    "import numpy as np\n",
    "import pandas as pd"
   ]
  },
  {
   "cell_type": "code",
   "execution_count": 2,
   "id": "fb33e745-f33b-40ad-b900-d812d83aec38",
   "metadata": {},
   "outputs": [],
   "source": [
    "turnovers = ['THROWAWAY', 'DROP', 'STALL', 'CALLAHAN_THROWN']\n",
    "takeaways = ['BLOCK', 'CALLAHAN', 'STALL_CAUSED', 'THROWAWAY_CAUSED']\n",
    "\n",
    "pulls = ['PULL_OUT_OF_BOUNDS', 'PULL_INBOUNDS']\n",
    "\n",
    "pens = ['D_PENALTY_ON_THEM', 'D_PENALTY_ON_US', 'O_PENALTY_ON_THEM', 'O_PENALTY_ON_US']\n",
    "\n",
    "quarter_ends = ['START_OF_GAME', 'END_OF_Q1', 'HALFTIME', 'END_OF_Q3', 'GAME_OVER']\n",
    "line_sets = ['SET_D_LINE', 'SET_O_LINE', 'SET_D_LINE_NO_PULL', 'SET_O_LINE_NO_PULL']\n",
    "timeouts = ['THEIR_MIDPOINT_TIMEOUT', 'OUR_MIDPOINT_TIMEOUT']\n",
    "\n",
    "other = ['REF_TIMEOUT_DISCUSSION???', 'INJURY_ON_O', 'INJURY_ON_D']\n"
   ]
  },
  {
   "cell_type": "code",
   "execution_count": null,
   "id": "449470ea-46cf-48b0-ba2f-b85064d54504",
   "metadata": {},
   "outputs": [],
   "source": []
  }
 ],
 "metadata": {
  "kernelspec": {
   "display_name": "Python 3 (ipykernel)",
   "language": "python",
   "name": "python3"
  },
  "language_info": {
   "codemirror_mode": {
    "name": "ipython",
    "version": 3
   },
   "file_extension": ".py",
   "mimetype": "text/x-python",
   "name": "python",
   "nbconvert_exporter": "python",
   "pygments_lexer": "ipython3",
   "version": "3.9.12"
  }
 },
 "nbformat": 4,
 "nbformat_minor": 5
}
