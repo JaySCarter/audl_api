{
 "cells": [
  {
   "cell_type": "markdown",
   "id": "43222a75-22b4-4250-ba26-879d82dad288",
   "metadata": {},
   "source": [
    "# Lines Analysis"
   ]
  },
  {
   "cell_type": "markdown",
   "id": "0940aadd-4dcc-41ad-b81a-2f02ff1dbd19",
   "metadata": {},
   "source": [
    "## Import"
   ]
  },
  {
   "cell_type": "code",
   "execution_count": null,
   "id": "da2340d5-60ea-4063-8ffc-5ecf7b155d34",
   "metadata": {},
   "outputs": [],
   "source": [
    "import os\n",
    "\n",
    "import numpy as np\n",
    "import pandas as pd\n",
    "\n",
    "import janitor"
   ]
  },
  {
   "cell_type": "markdown",
   "id": "e05bee3a-ab29-4570-b7c9-6c61e4f86365",
   "metadata": {},
   "source": [
    "## Constants"
   ]
  },
  {
   "cell_type": "code",
   "execution_count": null,
   "id": "fb33e745-f33b-40ad-b900-d812d83aec38",
   "metadata": {},
   "outputs": [],
   "source": [
    "scores = ['GOAL', 'SCORED_ON', 'CALLAHAN', 'CALLAHAN_THROWN']\n",
    "we_score = ['GOAL', 'CALLAHAN']\n",
    "they_score = ['SCORED_ON', 'CALLAHAN_THROWN']\n",
    "\n",
    "turnovers = ['THROWAWAY', 'DROP', 'STALL', 'CALLAHAN_THROWN']\n",
    "takeaways = ['BLOCK', 'CALLAHAN', 'STALL_CAUSED', 'THROWAWAY_CAUSED']\n",
    "\n",
    "pulls = ['PULL_OUT_OF_BOUNDS', 'PULL_INBOUNDS']\n",
    "\n",
    "pens = ['D_PENALTY_ON_THEM', 'D_PENALTY_ON_US', 'O_PENALTY_ON_THEM', 'O_PENALTY_ON_US']\n",
    "\n",
    "quarter_ends = ['START_OF_GAME', 'END_OF_Q1', 'HALFTIME', 'END_OF_Q3', 'GAME_OVER']\n",
    "\n",
    "line_sets = ['SET_D_LINE', 'SET_O_LINE', 'SET_D_LINE_NO_PULL', 'SET_O_LINE_NO_PULL']\n",
    "o_lines = ['SET_O_LINE', 'SET_O_LINE_NO_PULL']\n",
    "d_lines = ['SET_D_LINE', 'SET_D_LINE_NO_PULL']\n",
    "\n",
    "timeouts = ['THEIR_MIDPOINT_TIMEOUT', 'OUR_MIDPOINT_TIMEOUT']\n",
    "\n",
    "other = ['REF_TIMEOUT_DISCUSSION???', 'INJURY_ON_O', 'INJURY_ON_D']\n"
   ]
  },
  {
   "cell_type": "markdown",
   "id": "7826f98c-0510-4424-982d-eff2d67ac25d",
   "metadata": {},
   "source": [
    "## Analysis"
   ]
  },
  {
   "cell_type": "markdown",
   "id": "9a3de838-c215-4fb2-9c01-e7e347a98eac",
   "metadata": {},
   "source": [
    "### File IO"
   ]
  },
  {
   "cell_type": "code",
   "execution_count": null,
   "id": "153108ed-0865-4dfd-9af5-f17fba21a93b",
   "metadata": {},
   "outputs": [],
   "source": [
    "df = pd.read_csv(\"Flyers_Games.csv\").rename({\"Unnamed: 0\" : \"event_index\"}, axis=1)\n",
    "df_home = pd.read_csv(\"Flyers_Games_home.csv\").rename({\"Unnamed: 0\" : \"event_index\"}, axis=1)\n",
    "df_away = pd.read_csv(\"Flyers_Games_away.csv\").rename({\"Unnamed: 0\" : \"event_index\"}, axis=1)"
   ]
  },
  {
   "cell_type": "code",
   "execution_count": null,
   "id": "b6868da4-49f2-4d77-9793-54eb6236d499",
   "metadata": {},
   "outputs": [],
   "source": [
    "df.head(35)"
   ]
  },
  {
   "cell_type": "markdown",
   "id": "22c2f215-7c64-4d43-9707-2b6f32921f05",
   "metadata": {},
   "source": [
    "### Cleaning"
   ]
  },
  {
   "cell_type": "code",
   "execution_count": null,
   "id": "6402b1cf-dfcf-46bc-b5ff-8a3d035366e1",
   "metadata": {},
   "outputs": [],
   "source": [
    "df['is_home'] = df['home_team'] == df['team_id']\n",
    "df['is_away'] = df['away_team'] == df['team_id']\n",
    "\n",
    "df[\"game_point_id\"] = df[\"game_id\"]*1000 + df[\"point_id\"]\n",
    "\n",
    "df['player'] = np.where(df['event_type'].isin(line_sets), df['player'], \"\")\n",
    "\n",
    "df['home_score']  = np.where((df['is_home']) & (df['event_type'].isin(we_score)), 1, 0)\n",
    "df['away_score']  = np.where((df['is_away']) & (df['event_type'].isin(we_score)), 1, 0)"
   ]
  },
  {
   "cell_type": "markdown",
   "id": "b25e00e5-16e8-4ed3-8997-1640c5567e8a",
   "metadata": {},
   "source": [
    "### LINES"
   ]
  },
  {
   "cell_type": "code",
   "execution_count": null,
   "id": "db22f9cd-e0b1-4637-933a-35ca34e8d160",
   "metadata": {},
   "outputs": [],
   "source": [
    "all_lines = df.loc[df['event_type'].isin(line_sets)].copy()\n",
    "\n",
    "# How many lines are there per point\n",
    "all_lines['line_number_in_point'] = all_lines.groupby('game_point_id')['event_counter'].cumcount()\n",
    "print(\"Max Number of Lines in a point:\", all_lines['line_number_in_point'].unique().max())\n",
    "\n",
    "# Make Line ID within point within game\n",
    "# Multiply by 10 is safe\n",
    "all_lines['game_point_line_id'] = all_lines['game_point_id']*10 + all_lines['line_number_in_point']"
   ]
  },
  {
   "cell_type": "raw",
   "id": "63dd87c2-4f2d-495f-ba9e-9ae035d7c77a",
   "metadata": {},
   "source": [
    "[x.strip() for x in all_lines['player'].iloc[0].split(\",\")]\n",
    "\n",
    "all_lines['player2'] = all_lines['player'].str.split(\",\")\n",
    "\n",
    "all_lines['player3'] = [[x.strip() for x in y] for y in all_lines['player2']]\n",
    "\n",
    "all_lines['player4'].iloc[0]"
   ]
  },
  {
   "cell_type": "code",
   "execution_count": null,
   "id": "d7aea2c6-ad22-4605-bbfd-df88781f0dea",
   "metadata": {},
   "outputs": [],
   "source": [
    "# Players in each line\n",
    "all_lines['line_players'] = [[x.strip() for x in y[:-1]] for y in all_lines['player'].str.split(\",\")]"
   ]
  },
  {
   "cell_type": "code",
   "execution_count": null,
   "id": "f97361e6-aee9-4f31-9c8c-49f5b5936c93",
   "metadata": {},
   "outputs": [],
   "source": [
    "# Last Line on for each point\n",
    "last_line_by_point_idx = all_lines.groupby(['game_point_id', 'team_id'], sort=False)['game_point_line_id'].transform('max') == all_lines['game_point_line_id']\n",
    "last_lines = all_lines.loc[last_line_by_point_idx].sort_values('game_point_id')\n",
    "# last_lines.sort_values(['game_point_id', 'game_point_line_id']).head(5)\n",
    "\n",
    "all_lines = all_lines.merge(last_lines.loc[:, 'game_point_line_id'], how='left', on='game_point_line_id', indicator=True)\n",
    "all_lines['is_last_line'] = all_lines['_merge'] == 'both'\n",
    "del all_lines['_merge']"
   ]
  },
  {
   "cell_type": "code",
   "execution_count": null,
   "id": "e9d5becf-df65-4dbd-b512-10b35357a345",
   "metadata": {},
   "outputs": [],
   "source": [
    "home_lines = all_lines.loc[all_lines['is_home'] == True].copy()\n",
    "away_lines = all_lines.loc[all_lines['is_home'] == False].copy()"
   ]
  },
  {
   "cell_type": "code",
   "execution_count": null,
   "id": "fe457869-3cc6-45b4-add5-a7dba4a925cd",
   "metadata": {},
   "outputs": [],
   "source": [
    "all_lines.columns"
   ]
  },
  {
   "cell_type": "code",
   "execution_count": null,
   "id": "c2d0acb5-d44f-4540-ab65-bc03affcf703",
   "metadata": {},
   "outputs": [],
   "source": [
    "keep_cols_a = [\n",
    "    'date', 'game_id', 'game_point_id', 'game_point_line_id', \n",
    "    'home_team', 'away_team', 'team_id', 'current_quarter',\n",
    "    'event_type', 'o_point', 'd_point', 'point_id',\n",
    "    'our_score', 'their_score', 'is_home', 'is_away', 'line_players',\n",
    "    'is_last_line', 'line_number_in_point'\n",
    "]\n",
    "\n",
    "keep_cols_b = ['game_point_id', 'game_point_line_id', 'team_id', 'line_players', 'event_type', 'is_last_line']\n",
    "\n",
    "rename_cols_a = {\n",
    "    'team_id': 'team_id_a',\n",
    "    'is_home': 'is_home_a',\n",
    "    'is_away': 'is_away_a',\n",
    "    'game_point_line_id': 'line_id_a',\n",
    "    'line_players': 'line_players_a',\n",
    "    'is_last_line': 'is_last_line_a',\n",
    "    'our_score': 'our_score_point_start',\n",
    "    'their_score': 'their_score_point_start',\n",
    "    'event_type': 'line_set_type_a',\n",
    "    'o_point': 'o_point_a'\n",
    "}\n",
    "\n",
    "rename_cols_b = {\n",
    "    'team_id': 'team_id_b',\n",
    "    'game_point_line_id': 'line_id_b',\n",
    "    'line_players': 'line_players_b',\n",
    "    'is_last_line': 'is_last_line_b',\n",
    "    'event_type': 'line_set_type_b',\n",
    "}\n",
    "\n",
    "final_lines = home_lines.loc[:, keep_cols_a].rename(rename_cols_a, axis=1).merge(\n",
    "    away_lines.loc[:, keep_cols_b].rename(rename_cols_b, axis=1),\n",
    "    how='outer',\n",
    "    on='game_point_id',\n",
    "    indicator=True,\n",
    "    copy=True\n",
    ")\n",
    "del final_lines['_merge']\n",
    "print(final_lines.shape)\n",
    "final_lines.head()"
   ]
  },
  {
   "cell_type": "code",
   "execution_count": null,
   "id": "11c8306d-45b0-48ae-9484-5a9124d88b9e",
   "metadata": {},
   "outputs": [],
   "source": [
    "df_quarter_ends = df.loc[(df['event_type'].isin(quarter_ends))].copy()\n",
    "df_quarter_ends.shape\n",
    "df_quarter_ends.head()"
   ]
  },
  {
   "cell_type": "markdown",
   "id": "684ef789-f86c-4dd4-8955-1fbc9b9754d4",
   "metadata": {},
   "source": [
    "### POINTS"
   ]
  },
  {
   "cell_type": "code",
   "execution_count": null,
   "id": "8724c347-45f2-4000-b58c-42df01640606",
   "metadata": {},
   "outputs": [],
   "source": [
    "df_scores = df.loc[(df['event_type'].isin(we_score))].copy()\n",
    "\n",
    "df_scores['scoring_team'] = df_scores['team_id']\n",
    "# df_scores = df.loc[(df['event_type'] == 'GOAL') | (df['event_type'] == 'CALLAHAN')].copy()\n",
    "df_scores.sort_values('game_point_id').head(10)"
   ]
  },
  {
   "cell_type": "code",
   "execution_count": null,
   "id": "0f3d7b33-162d-4635-a4be-184e0662eab8",
   "metadata": {
    "tags": []
   },
   "outputs": [],
   "source": [
    "df_scores.columns"
   ]
  },
  {
   "cell_type": "code",
   "execution_count": null,
   "id": "4bad5b73-9c11-44b1-ba76-2e4079ca708f",
   "metadata": {},
   "outputs": [],
   "source": [
    "score_keep_cols = [\n",
    "     'game_point_id', 'time', 'event_type', 'o_point', 'is_home', 'is_away', \n",
    "    'our_score', 'their_score', 'scoring_team', 'home_score', 'away_score'\n",
    "]\n",
    "\n",
    "score_rename_cols = {\n",
    "    'event_type': 'score_type',\n",
    "    'time': 'time_of_score',\n",
    "    'our_score': 'our_score_point_end',\n",
    "    'their_score': 'their_score_point_end',\n",
    "    'home_score': 'home_team_scored', \n",
    "    'away_score': 'away_team_scored'\n",
    "}\n",
    "final_scores = df_scores.loc[:, score_keep_cols].rename(score_rename_cols, axis=1).sort_values('game_point_id')"
   ]
  },
  {
   "cell_type": "markdown",
   "id": "69c76a75-5496-4478-9e6c-64e5f6fafb90",
   "metadata": {},
   "source": [
    "### FINAL DF"
   ]
  },
  {
   "cell_type": "code",
   "execution_count": null,
   "id": "87661781-7c16-4684-9293-7b6f456b7d12",
   "metadata": {},
   "outputs": [],
   "source": [
    "df_final = final_lines.merge(\n",
    "    final_scores,\n",
    "    on='game_point_id',\n",
    "    how='outer',\n",
    "    indicator=True,\n",
    "    copy=True\n",
    ")\n",
    "\n",
    "df_final.head(10)\n",
    "df_final._merge.value_counts()"
   ]
  },
  {
   "cell_type": "raw",
   "id": "8c51ef2d-cdb5-4b0f-a05b-84da06a0bc77",
   "metadata": {},
   "source": [
    "# Manual Checking the weird merges\n",
    "check = 14\n",
    "\n",
    "left_only_ids = list(df_final.loc[df_final['_merge'] == \"left_only\", 'game_point_id'].values)\n",
    "print(len(left_only_ids))\n",
    "\n",
    "df.loc[df['game_point_id'] == (left_only_ids[check])]"
   ]
  },
  {
   "cell_type": "code",
   "execution_count": null,
   "id": "a99e1b7a-b111-432e-87c8-e10fb4d77532",
   "metadata": {},
   "outputs": [],
   "source": [
    "df_final.columns"
   ]
  },
  {
   "cell_type": "code",
   "execution_count": null,
   "id": "1382b360-5566-4899-8c50-fdce6ad0fc04",
   "metadata": {},
   "outputs": [],
   "source": [
    "df_final.loc[df_final['line_set_type_a'].str.contains(\"O_LINE\"), ['game_point_id', 'home_team', 'away_team', 'team_id_a', 'o_point_a']]"
   ]
  },
  {
   "cell_type": "code",
   "execution_count": null,
   "id": "02565dbb-205f-4c62-a262-36c711e449ac",
   "metadata": {},
   "outputs": [],
   "source": [
    "cols = [\n",
    "    'date', 'game_id', 'home_team', 'away_team', 'game_point_id', \n",
    "    'current_quarter', 'time_of_score',\n",
    "    'team_id_a', 'line_id_a', 'line_players_a', 'line_set_type_a', 'is_last_line_a', 'is_home_a', 'o_point_a',\n",
    "    'team_id_b', 'line_id_b', 'line_players_b', 'line_set_type_b', 'is_last_line_b',\n",
    "    'our_score_point_start',\n",
    "    'their_score_point_start', 'our_score_point_end', 'their_score_point_end',\n",
    "    'home_team_scored', 'away_team_scored',\n",
    "    'scoring_team', 'score_type'\n",
    "]\n",
    "leftover = [x for x in df_final.columns if x not in cols]\n",
    "leftover"
   ]
  },
  {
   "cell_type": "raw",
   "id": "156a82c3-7b85-4bb9-9cd7-3a125c2a6187",
   "metadata": {},
   "source": [
    "df_final[['game_point_id', 'home_team', 'line_set_type_a',\n",
    "       'away_team', 'team_id_a','o_point_a', 'o_point']].head(10)"
   ]
  },
  {
   "cell_type": "code",
   "execution_count": null,
   "id": "801e6d82-c55a-48c8-87ed-ed0581c3d7fb",
   "metadata": {},
   "outputs": [],
   "source": [
    "df_final.head()"
   ]
  },
  {
   "cell_type": "code",
   "execution_count": null,
   "id": "9869524a-92d6-434f-9086-075bcfe3349c",
   "metadata": {},
   "outputs": [],
   "source": [
    "df_final.loc[:, cols].to_csv(\"Test_Data_220730_1600.csv\", index=False)"
   ]
  },
  {
   "cell_type": "code",
   "execution_count": null,
   "id": "7379d730-408e-40db-8b44-5008e2407248",
   "metadata": {},
   "outputs": [],
   "source": []
  },
  {
   "cell_type": "code",
   "execution_count": null,
   "id": "029b1371-e960-44a8-b995-2ee0162f6205",
   "metadata": {},
   "outputs": [],
   "source": [
    "df['event_type'].unique()"
   ]
  },
  {
   "cell_type": "raw",
   "id": "e18cc838-9b84-436d-9e31-fe82716fd7b6",
   "metadata": {},
   "source": [
    "df['game_point_id'] = df['game_id'].astype(str) + \"_\" + df['point_id'].astype(str)\n",
    "df['home_score']  = np.where((df['home_team'] == df['team_id']) & (df['event_type'].isin(we_score)), 1, 0)\n",
    "df['away_score']  = np.where((df['away_team'] == df['team_id']) & (df['event_type'].isin(we_score)), 1, 0)\n",
    "              \n",
    "df['home_score_this_point'] = df.groupby('game_point_id')['home_score'].transform(sum)\n",
    "df['away_score_this_point'] = df.groupby('game_point_id')['away_score'].transform(sum)"
   ]
  }
 ],
 "metadata": {
  "kernelspec": {
   "display_name": "Python 3 (ipykernel)",
   "language": "python",
   "name": "python3"
  },
  "language_info": {
   "codemirror_mode": {
    "name": "ipython",
    "version": 3
   },
   "file_extension": ".py",
   "mimetype": "text/x-python",
   "name": "python",
   "nbconvert_exporter": "python",
   "pygments_lexer": "ipython3",
   "version": "3.9.12"
  }
 },
 "nbformat": 4,
 "nbformat_minor": 5
}
